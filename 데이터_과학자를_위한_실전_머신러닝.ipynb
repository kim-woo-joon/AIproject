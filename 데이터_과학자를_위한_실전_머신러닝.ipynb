{
  "nbformat": 4,
  "nbformat_minor": 0,
  "metadata": {
    "colab": {
      "provenance": [],
      "authorship_tag": "ABX9TyMfbwkeFP8xe/P5N7FEfijX",
      "include_colab_link": true
    },
    "kernelspec": {
      "name": "python3",
      "display_name": "Python 3"
    },
    "language_info": {
      "name": "python"
    }
  },
  "cells": [
    {
      "cell_type": "markdown",
      "metadata": {
        "id": "view-in-github",
        "colab_type": "text"
      },
      "source": [
        "<a href=\"https://colab.research.google.com/github/kim-woo-joon/AIproject/blob/main/%EB%8D%B0%EC%9D%B4%ED%84%B0_%EA%B3%BC%ED%95%99%EC%9E%90%EB%A5%BC_%EC%9C%84%ED%95%9C_%EC%8B%A4%EC%A0%84_%EB%A8%B8%EC%8B%A0%EB%9F%AC%EB%8B%9D.ipynb\" target=\"_parent\"><img src=\"https://colab.research.google.com/assets/colab-badge.svg\" alt=\"Open In Colab\"/></a>"
      ]
    },
    {
      "cell_type": "code",
      "execution_count": null,
      "metadata": {
        "id": "g0Xe7lseioYe"
      },
      "outputs": [],
      "source": [
        "import numpy as np\n",
        "from sklearn.datasets import load_diabetes\n",
        "from sklearn.model_selection import train_test_split\n",
        "\n",
        "X, y = load_diabetes(return_X_y = True, as_frame = False)\n",
        "X_train, X_test, y_train, y_test = train_test_split(X, y, test_size = 0.33, random_state = 1234)\n",
        "\n",
        "y_train = y_train.reshape(-1, 1)\n",
        "y_test = y_test.reshape(-1, 1)\n",
        "\n",
        "n_train, n_test = X_train.shape[0], X_test.shape[0]"
      ]
    },
    {
      "cell_type": "code",
      "source": [
        "X_train = np.append(np.ones((n_train, 1)), X_train, axis = 1)"
      ],
      "metadata": {
        "id": "rQ9vv_cHCCdh"
      },
      "execution_count": null,
      "outputs": []
    },
    {
      "cell_type": "code",
      "source": [
        "w = np.linalg.inv(X_train.T @ X_train) @ X_train.T @ y_train"
      ],
      "metadata": {
        "id": "G2Ry_DQACPH5"
      },
      "execution_count": null,
      "outputs": []
    },
    {
      "cell_type": "code",
      "source": [
        "y_pred_train = X_train @ w\n",
        "print(f'학습 데이터셋 MAE : {np.abs(y_pred_train - y_train).mean() : .3f}')\n",
        "\n",
        "X_test = np.append(np.ones((n_test, 1)), X_test, axis = 1)\n",
        "y_pred_test = X_test @ w\n",
        "print(f'테스트 데이터셋 MAE : {np.abs(y_pred_test - y_test).mean() : .3f}')"
      ],
      "metadata": {
        "colab": {
          "base_uri": "https://localhost:8080/"
        },
        "id": "E1gdivqhCWTM",
        "outputId": "6700471e-ff93-4cf4-fe0a-58a8891e1ebc"
      },
      "execution_count": null,
      "outputs": [
        {
          "output_type": "stream",
          "name": "stdout",
          "text": [
            "학습 데이터셋 MAE :  43.549\n",
            "테스트 데이터셋 MAE :  42.618\n"
          ]
        }
      ]
    },
    {
      "cell_type": "code",
      "source": [
        "import numpy as np\n",
        "import matplotlib.pyplot as plt\n",
        "%matplotlib inline"
      ],
      "metadata": {
        "id": "lmoZyxGKDAow"
      },
      "execution_count": 1,
      "outputs": []
    },
    {
      "cell_type": "code",
      "source": [
        "x0, Delta, Tolerance = 2, 0.4, 0.005"
      ],
      "metadata": {
        "id": "v3Rl30WZYEfL"
      },
      "execution_count": 2,
      "outputs": []
    },
    {
      "cell_type": "code",
      "source": [
        "def grad(x):\n",
        "  return 2*x"
      ],
      "metadata": {
        "id": "PVMwuuwFYOJZ"
      },
      "execution_count": 3,
      "outputs": []
    },
    {
      "cell_type": "code",
      "source": [
        "xs = []\n",
        "x_prev = x0\n",
        "\n",
        "for cnt in range(0, 100):\n",
        "  cnt += 1\n",
        "  xs.append(x_prev)\n",
        "  x_curr = x_prev - 2 * Delta * grad(x_prev)\n",
        "  diff = np.abs(x_curr - x_prev)\n",
        "  if diff < Tolerance:\n",
        "    break\n",
        "  x_prev = x_curr\n",
        "\n",
        "print(\"이터레이션 횟수 : \", cnt)\n",
        "print(\"x_curr의 값 : \", x_curr)"
      ],
      "metadata": {
        "colab": {
          "base_uri": "https://localhost:8080/"
        },
        "id": "8EDcaAA0YefL",
        "outputId": "b1c2814e-bcd5-4446-e418-28ae8864746c"
      },
      "execution_count": 4,
      "outputs": [
        {
          "output_type": "stream",
          "name": "stdout",
          "text": [
            "이터레이션 횟수 :  14\n",
            "x_curr의 값 :  0.0015672832819200039\n"
          ]
        }
      ]
    },
    {
      "cell_type": "code",
      "source": [
        "plt.plot([i for i in range(cnt)], [0] * cnt, 'k', label = 'Optimum Parameter')\n",
        "plt.plot([i for i in range(cnt)], xs, 'r', label = 'Steepest Decsent')\n",
        "plt.legend()"
      ],
      "metadata": {
        "colab": {
          "base_uri": "https://localhost:8080/",
          "height": 448
        },
        "id": "UKxH_X8aZU2S",
        "outputId": "88a582cf-c39c-49e3-8090-7e611ef0b482"
      },
      "execution_count": 5,
      "outputs": [
        {
          "output_type": "execute_result",
          "data": {
            "text/plain": [
              "<matplotlib.legend.Legend at 0x7c71a0cb40a0>"
            ]
          },
          "metadata": {},
          "execution_count": 5
        },
        {
          "output_type": "display_data",
          "data": {
            "text/plain": [
              "<Figure size 640x480 with 1 Axes>"
            ],
            "image/png": "[encoded data removed]"
          },
          "metadata": {}
        }
      ]
    },
    {
      "cell_type": "code",
      "source": [],
      "metadata": {
        "id": "lNGL6NbUaAsL"
      },
      "execution_count": null,
      "outputs": []
    }
  ]
}