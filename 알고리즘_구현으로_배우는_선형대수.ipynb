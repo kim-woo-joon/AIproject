{
  "nbformat": 4,
  "nbformat_minor": 0,
  "metadata": {
    "colab": {
      "provenance": [],
      "authorship_tag": "ABX9TyNYaxg04BGxMKh6OQTVyLIn",
      "include_colab_link": true
    },
    "kernelspec": {
      "name": "python3",
      "display_name": "Python 3"
    },
    "language_info": {
      "name": "python"
    }
  },
  "cells": [
    {
      "cell_type": "markdown",
      "metadata": {
        "id": "view-in-github",
        "colab_type": "text"
      },
      "source": [
        "<a href=\"https://colab.research.google.com/github/kim-woo-joon/AIproject/blob/main/%EC%95%8C%EA%B3%A0%EB%A6%AC%EC%A6%98_%EA%B5%AC%ED%98%84%EC%9C%BC%EB%A1%9C_%EB%B0%B0%EC%9A%B0%EB%8A%94_%EC%84%A0%ED%98%95%EB%8C%80%EC%88%98.ipynb\" target=\"_parent\"><img src=\"https://colab.research.google.com/assets/colab-badge.svg\" alt=\"Open In Colab\"/></a>"
      ]
    },
    {
      "cell_type": "code",
      "execution_count": null,
      "metadata": {
        "id": "rU5UOMBCNnGt"
      },
      "outputs": [],
      "source": [
        "import numpy as np\n",
        "import pandas as pd\n",
        "import matplotlib.pyplot as plt\n",
        "\n",
        "def v_add(u, v):\n",
        "    n = len(u)\n",
        "    w = []\n",
        "\n",
        "    for i in range(0, n):\n",
        "      val = u[i] + v[i]\n",
        "      w.append(val)\n",
        "\n",
        "    return w"
      ]
    },
    {
      "cell_type": "code",
      "source": [
        "u = [1, 2, 3]\n",
        "v = [4, 5, 6]\n",
        "v_add(u, v)"
      ],
      "metadata": {
        "colab": {
          "base_uri": "https://localhost:8080/"
        },
        "id": "He8T9CLUePQV",
        "outputId": "34def57d-0985-4dc2-9ef3-80fdd48454de"
      },
      "execution_count": null,
      "outputs": [
        {
          "output_type": "execute_result",
          "data": {
            "text/plain": [
              "[5, 7, 9]"
            ]
          },
          "metadata": {},
          "execution_count": 6
        }
      ]
    },
    {
      "cell_type": "code",
      "source": [
        "def v_subtract(u, v):\n",
        "    n = len(u)\n",
        "    w = []\n",
        "\n",
        "    for i in range(0, n):\n",
        "      val = u[i] - v[i]\n",
        "      w.append(val)\n",
        "\n",
        "    return w"
      ],
      "metadata": {
        "id": "1M4uJaNljBpr"
      },
      "execution_count": null,
      "outputs": []
    },
    {
      "cell_type": "code",
      "source": [
        "u = [7, 3, 9]\n",
        "v = [2, 5, 7]\n",
        "v_subtract(u, v)"
      ],
      "metadata": {
        "colab": {
          "base_uri": "https://localhost:8080/"
        },
        "id": "VAO8srTgEYH6",
        "outputId": "1ba8c5a8-a239-443b-886a-eca162045ff2"
      },
      "execution_count": null,
      "outputs": [
        {
          "output_type": "execute_result",
          "data": {
            "text/plain": [
              "[5, -2, 2]"
            ]
          },
          "metadata": {},
          "execution_count": 8
        }
      ]
    },
    {
      "cell_type": "code",
      "source": [
        "def scalar_v_mul(a,u):\n",
        "  n = len(u)\n",
        "  w = []\n",
        "\n",
        "  for i in range(0, n):\n",
        "    val = a * u[i]\n",
        "    w.append(val)\n",
        "\n",
        "  return w"
      ],
      "metadata": {
        "id": "NKcC_GLJEkGn"
      },
      "execution_count": 1,
      "outputs": []
    },
    {
      "cell_type": "code",
      "source": [
        "u = [2, 4, 3]\n",
        "a = 3\n",
        "scalar_v_mul(a, u)"
      ],
      "metadata": {
        "colab": {
          "base_uri": "https://localhost:8080/"
        },
        "id": "vFJgrdbJMezO",
        "outputId": "3d5fb47c-f27b-4b7b-a161-21b002dd015e"
      },
      "execution_count": 2,
      "outputs": [
        {
          "output_type": "execute_result",
          "data": {
            "text/plain": [
              "[6, 12, 9]"
            ]
          },
          "metadata": {},
          "execution_count": 2
        }
      ]
    },
    {
      "cell_type": "code",
      "source": [
        "def v_mul(u, v):\n",
        "    n = len(u)\n",
        "    w = []\n",
        "\n",
        "    for i in range(0, n):\n",
        "      val = u[i] * v[i]\n",
        "      w.append(val)\n",
        "\n",
        "    return w"
      ],
      "metadata": {
        "id": "3LlCyjrjSkgV"
      },
      "execution_count": 3,
      "outputs": []
    },
    {
      "cell_type": "code",
      "source": [
        "u = [1, 2, 4]\n",
        "v = [7, 3, 2]\n",
        "v_mul(u, v)"
      ],
      "metadata": {
        "colab": {
          "base_uri": "https://localhost:8080/"
        },
        "id": "IqoI_gNGXIW3",
        "outputId": "8fce5ec0-d9df-4ba8-83d1-50c937f5847f"
      },
      "execution_count": 5,
      "outputs": [
        {
          "output_type": "execute_result",
          "data": {
            "text/plain": [
              "[7, 6, 8]"
            ]
          },
          "metadata": {},
          "execution_count": 5
        }
      ]
    },
    {
      "cell_type": "code",
      "source": [
        "def v_div(u, v):\n",
        "    n = len(u)\n",
        "    w = []\n",
        "\n",
        "    for i in range(0, n):\n",
        "      val = u[i] / v[i]\n",
        "      w.append(val)\n",
        "\n",
        "    return w"
      ],
      "metadata": {
        "id": "ALywELDfXTgw"
      },
      "execution_count": 6,
      "outputs": []
    },
    {
      "cell_type": "code",
      "source": [
        "u = [6, 5, 9]\n",
        "v = [2, 2, -3]\n",
        "v_div(u, v)"
      ],
      "metadata": {
        "colab": {
          "base_uri": "https://localhost:8080/"
        },
        "id": "henb9XneXZx3",
        "outputId": "c5441c2d-a881-4bb5-8a66-abdb4a701eca"
      },
      "execution_count": 7,
      "outputs": [
        {
          "output_type": "execute_result",
          "data": {
            "text/plain": [
              "[3.0, 2.5, -3.0]"
            ]
          },
          "metadata": {},
          "execution_count": 7
        }
      ]
    },
    {
      "cell_type": "code",
      "source": [],
      "metadata": {
        "id": "-iFsHJVTXiYu"
      },
      "execution_count": null,
      "outputs": []
    }
  ]
}