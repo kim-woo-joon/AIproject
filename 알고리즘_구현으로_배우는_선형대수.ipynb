{
  "nbformat": 4,
  "nbformat_minor": 0,
  "metadata": {
    "colab": {
      "provenance": [],
      "authorship_tag": "ABX9TyORTEeLxDyp8BT6+FcxlrQW",
      "include_colab_link": true
    },
    "kernelspec": {
      "name": "python3",
      "display_name": "Python 3"
    },
    "language_info": {
      "name": "python"
    }
  },
  "cells": [
    {
      "cell_type": "markdown",
      "metadata": {
        "id": "view-in-github",
        "colab_type": "text"
      },
      "source": [
        "<a href=\"https://colab.research.google.com/github/kim-woo-joon/AIproject/blob/main/%EC%95%8C%EA%B3%A0%EB%A6%AC%EC%A6%98_%EA%B5%AC%ED%98%84%EC%9C%BC%EB%A1%9C_%EB%B0%B0%EC%9A%B0%EB%8A%94_%EC%84%A0%ED%98%95%EB%8C%80%EC%88%98.ipynb\" target=\"_parent\"><img src=\"https://colab.research.google.com/assets/colab-badge.svg\" alt=\"Open In Colab\"/></a>"
      ]
    },
    {
      "cell_type": "code",
      "execution_count": null,
      "metadata": {
        "id": "Ww4qzH_afnmF"
      },
      "outputs": [],
      "source": [
        "a = 5\n",
        "b = 2\n",
        "c = a + b"
      ]
    },
    {
      "cell_type": "code",
      "source": [
        "print(c)"
      ],
      "metadata": {
        "colab": {
          "base_uri": "https://localhost:8080/"
        },
        "id": "T5uVcypgftEb",
        "outputId": "ce71a353-876a-47f3-cece-cd45c231a0a5"
      },
      "execution_count": null,
      "outputs": [
        {
          "output_type": "stream",
          "name": "stdout",
          "text": [
            "7\n"
          ]
        }
      ]
    },
    {
      "cell_type": "code",
      "source": [
        "a1 = True\n",
        "print(a1)"
      ],
      "metadata": {
        "colab": {
          "base_uri": "https://localhost:8080/"
        },
        "id": "Q2cC1Q7XiOAM",
        "outputId": "b8ea801b-fb2a-45ea-8141-1a86a3687043"
      },
      "execution_count": null,
      "outputs": [
        {
          "output_type": "stream",
          "name": "stdout",
          "text": [
            "True\n"
          ]
        }
      ]
    },
    {
      "cell_type": "code",
      "source": [
        "a = 2\n",
        "b = 1\n",
        "a > b"
      ],
      "metadata": {
        "colab": {
          "base_uri": "https://localhost:8080/"
        },
        "id": "U2Hg_9dCihmG",
        "outputId": "3b82ddcc-5216-4f6f-85c0-6ea78a0dfabf"
      },
      "execution_count": null,
      "outputs": [
        {
          "output_type": "execute_result",
          "data": {
            "text/plain": [
              "True"
            ]
          },
          "metadata": {},
          "execution_count": 3
        }
      ]
    },
    {
      "cell_type": "code",
      "source": [
        "a = 4\n",
        "b = 3\n",
        "c = 2\n",
        "d = 1\n",
        "\n",
        "a > b and c > d"
      ],
      "metadata": {
        "colab": {
          "base_uri": "https://localhost:8080/"
        },
        "id": "dy9DqGluB_VD",
        "outputId": "82c47b2f-6809-4bf6-fc85-a2ef7ad5b7a2"
      },
      "execution_count": null,
      "outputs": [
        {
          "output_type": "execute_result",
          "data": {
            "text/plain": [
              "True"
            ]
          },
          "metadata": {},
          "execution_count": 2
        }
      ]
    },
    {
      "cell_type": "code",
      "source": [
        "a = 4\n",
        "b = 3\n",
        "c = 2\n",
        "d = 1\n",
        "\n",
        "a > b and c < d"
      ],
      "metadata": {
        "colab": {
          "base_uri": "https://localhost:8080/"
        },
        "id": "VjewTZAwnjwP",
        "outputId": "8083f2da-a779-423d-c7ee-792eb448f716"
      },
      "execution_count": null,
      "outputs": [
        {
          "output_type": "execute_result",
          "data": {
            "text/plain": [
              "False"
            ]
          },
          "metadata": {},
          "execution_count": 3
        }
      ]
    },
    {
      "cell_type": "code",
      "source": [
        "a > b or c < d"
      ],
      "metadata": {
        "colab": {
          "base_uri": "https://localhost:8080/"
        },
        "id": "9S53PIxfnnl1",
        "outputId": "e9452ad6-18bf-420a-c45b-ea5aa200e64f"
      },
      "execution_count": null,
      "outputs": [
        {
          "output_type": "execute_result",
          "data": {
            "text/plain": [
              "True"
            ]
          },
          "metadata": {},
          "execution_count": 4
        }
      ]
    },
    {
      "cell_type": "code",
      "source": [
        "a = [1, 2, 3, 4, 5]\n",
        "\n",
        "if a[0] == 1:\n",
        "  a.append(8)\n",
        "\n",
        "print(a)"
      ],
      "metadata": {
        "colab": {
          "base_uri": "https://localhost:8080/"
        },
        "id": "UBK5CABOnv2l",
        "outputId": "dca4d751-88d0-44d5-f1ba-7bb321711e6e"
      },
      "execution_count": null,
      "outputs": [
        {
          "output_type": "stream",
          "name": "stdout",
          "text": [
            "[1, 2, 3, 4, 5, 8]\n"
          ]
        }
      ]
    },
    {
      "cell_type": "code",
      "source": [
        "for i in range(0, 50) : \n",
        "  print(i)"
      ],
      "metadata": {
        "colab": {
          "base_uri": "https://localhost:8080/"
        },
        "id": "KqxYq9wKrrkO",
        "outputId": "0e704aaa-4fb3-4378-9b94-8a1500e7a79e"
      },
      "execution_count": null,
      "outputs": [
        {
          "output_type": "stream",
          "name": "stdout",
          "text": [
            "0\n",
            "1\n",
            "2\n",
            "3\n",
            "4\n",
            "5\n",
            "6\n",
            "7\n",
            "8\n",
            "9\n",
            "10\n",
            "11\n",
            "12\n",
            "13\n",
            "14\n",
            "15\n",
            "16\n",
            "17\n",
            "18\n",
            "19\n",
            "20\n",
            "21\n",
            "22\n",
            "23\n",
            "24\n",
            "25\n",
            "26\n",
            "27\n",
            "28\n",
            "29\n",
            "30\n",
            "31\n",
            "32\n",
            "33\n",
            "34\n",
            "35\n",
            "36\n",
            "37\n",
            "38\n",
            "39\n",
            "40\n",
            "41\n",
            "42\n",
            "43\n",
            "44\n",
            "45\n",
            "46\n",
            "47\n",
            "48\n",
            "49\n"
          ]
        }
      ]
    },
    {
      "cell_type": "code",
      "source": [
        "a = ['abc', 3, 'de', 7]\n",
        "for element in a:\n",
        "  print(element)"
      ],
      "metadata": {
        "colab": {
          "base_uri": "https://localhost:8080/"
        },
        "id": "r8Nl4oZUsPVm",
        "outputId": "135b7c72-f8b2-46aa-c2f2-f099b15920cf"
      },
      "execution_count": null,
      "outputs": [
        {
          "output_type": "stream",
          "name": "stdout",
          "text": [
            "abc\n",
            "3\n",
            "de\n",
            "7\n"
          ]
        }
      ]
    },
    {
      "cell_type": "code",
      "source": [
        "b = [1, 2, 3, 4, 5]\n",
        "c = [element * 2 for element in b]\n",
        "print(c)"
      ],
      "metadata": {
        "colab": {
          "base_uri": "https://localhost:8080/"
        },
        "id": "T2MhDh0StQ43",
        "outputId": "f2cfe656-6492-433e-b0ae-95e34349f7a8"
      },
      "execution_count": null,
      "outputs": [
        {
          "output_type": "stream",
          "name": "stdout",
          "text": [
            "[2, 4, 6, 8, 10]\n"
          ]
        }
      ]
    },
    {
      "cell_type": "code",
      "source": [
        "num = 0\n",
        "while num < 5:\n",
        "  print(num)\n",
        "  num = num + 1"
      ],
      "metadata": {
        "colab": {
          "base_uri": "https://localhost:8080/"
        },
        "id": "pOWsGbwktpAK",
        "outputId": "c55fc122-a6a0-4276-b3c1-4566ee5f4764"
      },
      "execution_count": null,
      "outputs": [
        {
          "output_type": "stream",
          "name": "stdout",
          "text": [
            "0\n",
            "1\n",
            "2\n",
            "3\n",
            "4\n"
          ]
        }
      ]
    },
    {
      "cell_type": "code",
      "source": [
        "def add(a, b):\n",
        "  c = a + b\n",
        "  return c"
      ],
      "metadata": {
        "id": "xAj2rMdMtzFx"
      },
      "execution_count": null,
      "outputs": []
    },
    {
      "cell_type": "code",
      "source": [
        "add(1, 2)"
      ],
      "metadata": {
        "colab": {
          "base_uri": "https://localhost:8080/"
        },
        "id": "NT2UOl2xvoPb",
        "outputId": "2434adfb-fe1a-440e-a121-fd631cd6a872"
      },
      "execution_count": null,
      "outputs": [
        {
          "output_type": "execute_result",
          "data": {
            "text/plain": [
              "3"
            ]
          },
          "metadata": {},
          "execution_count": 5
        }
      ]
    },
    {
      "cell_type": "code",
      "source": [
        "x = 3\n",
        "y = x"
      ],
      "metadata": {
        "id": "5lg_fTxxvv1D"
      },
      "execution_count": null,
      "outputs": []
    },
    {
      "cell_type": "code",
      "source": [
        "print(x)\n",
        "print(y)"
      ],
      "metadata": {
        "colab": {
          "base_uri": "https://localhost:8080/"
        },
        "id": "T9qCcYDiwBdE",
        "outputId": "f6234ac1-6364-492d-ca3a-119d3a9064b2"
      },
      "execution_count": null,
      "outputs": [
        {
          "output_type": "stream",
          "name": "stdout",
          "text": [
            "3\n",
            "3\n"
          ]
        }
      ]
    },
    {
      "cell_type": "code",
      "source": [
        "u = [7, 3, 9]\n",
        "v = [2, 5, 7]\n",
        "\n",
        "n = len(u)\n",
        "\n",
        "w = []\n",
        "\n",
        "for i in range(0, n):\n",
        "  val = u[i] - v[i]\n",
        "  w.append(val)"
      ],
      "metadata": {
        "id": "8eshX3Z6wFmM"
      },
      "execution_count": null,
      "outputs": []
    },
    {
      "cell_type": "code",
      "source": [
        "print(w)"
      ],
      "metadata": {
        "colab": {
          "base_uri": "https://localhost:8080/"
        },
        "id": "jfjxPcdTJHWU",
        "outputId": "2e159684-12f8-47ce-9625-c14392ab2a9c"
      },
      "execution_count": null,
      "outputs": [
        {
          "output_type": "stream",
          "name": "stdout",
          "text": [
            "[5, -2, 2]\n"
          ]
        }
      ]
    },
    {
      "cell_type": "code",
      "source": [
        "def v_subtract(u, v):\n",
        "  n = len(u)\n",
        "  w = []\n",
        "\n",
        "  for i in range(0, n):\n",
        "    val = u[i] - v[i]\n",
        "    w.append(val)\n",
        "  return w"
      ],
      "metadata": {
        "id": "xnPe0XSVKH1p"
      },
      "execution_count": null,
      "outputs": []
    },
    {
      "cell_type": "code",
      "source": [
        "u = [7, 3, 9]\n",
        "v = [2, 5, 7]\n",
        "\n",
        "v_subtract(u, v)"
      ],
      "metadata": {
        "colab": {
          "base_uri": "https://localhost:8080/"
        },
        "id": "NyDdW__hdCJm",
        "outputId": "5124f5a7-f725-49c7-ec56-801ef21de68c"
      },
      "execution_count": null,
      "outputs": [
        {
          "output_type": "execute_result",
          "data": {
            "text/plain": [
              "[5, -2, 2]"
            ]
          },
          "metadata": {},
          "execution_count": 9
        }
      ]
    },
    {
      "cell_type": "code",
      "source": [
        "u = [2, 4, 3]\n",
        "a = 3\n",
        "\n",
        "n = len(u)\n",
        "w = []\n",
        "\n",
        "for i in range(0, n):\n",
        "    val = a * u[i]\n",
        "    w.append(val)"
      ],
      "metadata": {
        "id": "sQue6AKRgcbk"
      },
      "execution_count": null,
      "outputs": []
    },
    {
      "cell_type": "code",
      "source": [
        "print(w)"
      ],
      "metadata": {
        "colab": {
          "base_uri": "https://localhost:8080/"
        },
        "id": "96w870IUgwpC",
        "outputId": "8bf1c806-f4d3-40ac-cb47-81eaaa30bc72"
      },
      "execution_count": null,
      "outputs": [
        {
          "output_type": "stream",
          "name": "stdout",
          "text": [
            "[6, 12, 9]\n"
          ]
        }
      ]
    },
    {
      "cell_type": "code",
      "source": [
        "u = [6, 5, 9]\n",
        "v = [2, 2, -3]\n",
        "\n",
        "n = len(u)\n",
        "w = []\n",
        "\n",
        "for i in range(0, n):\n",
        "  val = u[i] / v[i]\n",
        "  w.append(val)\n",
        "\n",
        "print(w)"
      ],
      "metadata": {
        "colab": {
          "base_uri": "https://localhost:8080/"
        },
        "id": "PXhPb1QPUHpg",
        "outputId": "db2f2bf4-258d-4349-a61a-66eec929ffb1"
      },
      "execution_count": null,
      "outputs": [
        {
          "output_type": "stream",
          "name": "stdout",
          "text": [
            "[3.0, 2.5, -3.0]\n"
          ]
        }
      ]
    },
    {
      "cell_type": "code",
      "source": [
        "A = [[2, 7], [3, 4], [6, 1]]\n",
        "B = [[1, 4], [4, -1], [2, 5]]\n",
        "\n",
        "n= len(A)\n",
        "p = len(A[0])\n",
        "\n",
        "res = []\n",
        "\n",
        "for i in range(0, n):\n",
        "  row = []\n",
        "  for j in range(0, p):\n",
        "    val = A[i][j] + B[i][j]\n",
        "    row.append(val)\n",
        "  res.append(row)\n",
        "\n",
        "print(res)"
      ],
      "metadata": {
        "colab": {
          "base_uri": "https://localhost:8080/"
        },
        "id": "K7h91BZNUpi4",
        "outputId": "d4e4c48d-61d0-4483-f56b-4192832213e6"
      },
      "execution_count": null,
      "outputs": [
        {
          "output_type": "stream",
          "name": "stdout",
          "text": [
            "[[3, 11], [7, 3], [8, 6]]\n"
          ]
        }
      ]
    },
    {
      "cell_type": "code",
      "source": [
        "def add(A, B):\n",
        "  n = len(A)\n",
        "  p = len(A[0])\n",
        "\n",
        "  res = []\n",
        "  for i in range(0, n):\n",
        "    row = []\n",
        "    for j in range(0, p):\n",
        "      val = A[i][j] + B[i][j]\n",
        "      row.append(val)\n",
        "    res.append(row)\n",
        "  return res"
      ],
      "metadata": {
        "id": "COkrD4q-iZHd"
      },
      "execution_count": null,
      "outputs": []
    },
    {
      "cell_type": "code",
      "source": [
        "A = [[2, 7], [3, 4], [6, 1]]\n",
        "B = [[1,4], [4, -1], [2, 5]]\n",
        "add(A, B)"
      ],
      "metadata": {
        "colab": {
          "base_uri": "https://localhost:8080/"
        },
        "id": "aKu4_eL1iFlO",
        "outputId": "94076246-8886-4c64-e24a-7e14eea8e3cf"
      },
      "execution_count": null,
      "outputs": [
        {
          "output_type": "execute_result",
          "data": {
            "text/plain": [
              "[[3, 11], [7, 3], [8, 6]]"
            ]
          },
          "metadata": {},
          "execution_count": 8
        }
      ]
    },
    {
      "cell_type": "code",
      "source": [
        "A = [[2, 7], [3, 4], [6, 1]]\n",
        "B = [[1,4], [4, -1], [2, 5]]\n",
        "\n",
        "n = len(A)\n",
        "p = len(A[0])\n",
        "\n",
        "res = []\n",
        "for i in range(0, n):\n",
        "  row = []\n",
        "  for j in range(0, p):\n",
        "    val = A[i][j] - B[i][j]\n",
        "    row.append(val)\n",
        "  res.append(row)\n",
        "\n",
        "  print(res)"
      ],
      "metadata": {
        "id": "w-CjqB2Wi9-2",
        "colab": {
          "base_uri": "https://localhost:8080/"
        },
        "outputId": "2c7ecdf2-76f9-4d99-81e9-7bfafd372e09"
      },
      "execution_count": null,
      "outputs": [
        {
          "output_type": "stream",
          "name": "stdout",
          "text": [
            "[[1, 3]]\n",
            "[[1, 3], [-1, 5]]\n",
            "[[1, 3], [-1, 5], [4, -4]]\n"
          ]
        }
      ]
    },
    {
      "cell_type": "code",
      "source": [
        "def subtract(A, B):\n",
        "  n = len(A)\n",
        "  p = len(A[0])\n",
        "\n",
        "  res = []\n",
        "  for i in range(0, n):\n",
        "    row = []\n",
        "    for j in range(0, p):\n",
        "      val = A[i][j] - B[i][j]\n",
        "      row.append(val)\n",
        "    res.append(row)\n",
        "  return res"
      ],
      "metadata": {
        "id": "ANkyiUKkJUdk"
      },
      "execution_count": null,
      "outputs": []
    },
    {
      "cell_type": "code",
      "source": [
        "A = [[2, 7], [3, 4], [6, 1]]\n",
        "B = [[1, 4], [4, -1], [2, 5]]\n",
        "\n",
        "subtract(A, B)"
      ],
      "metadata": {
        "colab": {
          "base_uri": "https://localhost:8080/"
        },
        "id": "gCRXkkQJKbRi",
        "outputId": "e2d6b7ef-cb63-421e-df0f-391e799263c1"
      },
      "execution_count": null,
      "outputs": [
        {
          "output_type": "execute_result",
          "data": {
            "text/plain": [
              "[[1, 3], [-1, 5], [4, -4]]"
            ]
          },
          "metadata": {},
          "execution_count": 17
        }
      ]
    },
    {
      "cell_type": "code",
      "source": [
        "A = [[2, 7], [3, 4], [6, 1]]\n",
        "b = 2\n",
        "\n",
        "n = len(A)\n",
        "p = len(A[0])\n",
        "\n",
        "res = []\n",
        "for i in range(0, n):\n",
        "  row = []\n",
        "  for j in range(0, p):\n",
        "    val = b * A[i][j]\n",
        "    row.append(val)\n",
        "  res.append(row)\n",
        "print(res)"
      ],
      "metadata": {
        "id": "lOVOF_YgLLl7",
        "colab": {
          "base_uri": "https://localhost:8080/"
        },
        "outputId": "2d0df80e-a6e9-4153-874c-87fd74ddfa1f"
      },
      "execution_count": 1,
      "outputs": [
        {
          "output_type": "stream",
          "name": "stdout",
          "text": [
            "[[4, 14], [6, 8], [12, 2]]\n"
          ]
        }
      ]
    },
    {
      "cell_type": "code",
      "source": [
        "def scalar_mul(b, A):\n",
        "  n = len(A)\n",
        "  p = len(A[0])\n",
        "\n",
        "  res = []\n",
        "  for i in range(0, n):\n",
        "      row = []\n",
        "      for j in range(0, p):\n",
        "          val = b * A[i][j]\n",
        "          row.append(val)\n",
        "      res.append(row)\n",
        "  return res"
      ],
      "metadata": {
        "id": "Y89pjNF8t0Hi"
      },
      "execution_count": 9,
      "outputs": []
    },
    {
      "cell_type": "code",
      "source": [
        "A = [[2, 7], [3, 4], [6, 1]]\n",
        "b = 2\n",
        "scalar_mul(b, A)"
      ],
      "metadata": {
        "colab": {
          "base_uri": "https://localhost:8080/"
        },
        "id": "vc9iQ7QOzbis",
        "outputId": "0181a5e9-581f-4bce-dc9a-6b4b310ad072"
      },
      "execution_count": 10,
      "outputs": [
        {
          "output_type": "execute_result",
          "data": {
            "text/plain": [
              "[[4, 14], [6, 8], [12, 2]]"
            ]
          },
          "metadata": {},
          "execution_count": 10
        }
      ]
    },
    {
      "cell_type": "code",
      "source": [],
      "metadata": {
        "id": "lYrfPets4Zvf"
      },
      "execution_count": null,
      "outputs": []
    }
  ]
}