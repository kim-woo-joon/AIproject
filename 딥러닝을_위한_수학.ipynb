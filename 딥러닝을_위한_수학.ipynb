{
  "nbformat": 4,
  "nbformat_minor": 0,
  "metadata": {
    "colab": {
      "provenance": [],
      "authorship_tag": "ABX9TyMb6xqbCgKdPcTWDai+mDhv",
      "include_colab_link": true
    },
    "kernelspec": {
      "name": "python3",
      "display_name": "Python 3"
    },
    "language_info": {
      "name": "python"
    }
  },
  "cells": [
    {
      "cell_type": "markdown",
      "metadata": {
        "id": "view-in-github",
        "colab_type": "text"
      },
      "source": [
        "<a href=\"https://colab.research.google.com/github/kim-woo-joon/AIproject/blob/main/%EB%94%A5%EB%9F%AC%EB%8B%9D%EC%9D%84_%EC%9C%84%ED%95%9C_%EC%88%98%ED%95%99.ipynb\" target=\"_parent\"><img src=\"https://colab.research.google.com/assets/colab-badge.svg\" alt=\"Open In Colab\"/></a>"
      ]
    },
    {
      "cell_type": "code",
      "execution_count": 2,
      "metadata": {
        "colab": {
          "base_uri": "https://localhost:8080/"
        },
        "id": "LQAJmi9KaH94",
        "outputId": "38cfa92f-acd7-46fd-93cb-9ae043c4f033"
      },
      "outputs": [
        {
          "output_type": "stream",
          "name": "stdout",
          "text": [
            "No Boston in the fail = 0.7774\n"
          ]
        }
      ],
      "source": [
        "import numpy as np\n",
        "import pandas as pd\n",
        "import matplotlib.pyplot as plt\n",
        "\n",
        "nb = 0\n",
        "N = 100000\n",
        "\n",
        "for i in range(N):\n",
        "  s = np.random.randint(0, 50, 3)\n",
        "  fail = False\n",
        "  for t in range(3):\n",
        "    if(s[t] < 4):\n",
        "      fail = True\n",
        "      break\n",
        "  if(not fail):\n",
        "    nb += 1\n",
        "\n",
        "print(\"No Boston in the fail = %0.4f\" % (nb/N))"
      ]
    },
    {
      "cell_type": "code",
      "source": [
        "import numpy as np\n",
        "n = np.random.randint(0, 10, 10000)\n",
        "h = np.bincount(n)\n",
        "print(h)"
      ],
      "metadata": {
        "colab": {
          "base_uri": "https://localhost:8080/"
        },
        "id": "iOB7t-F9wS28",
        "outputId": "0a2b5e51-2bd6-43a6-dade-e3196eb97aa3"
      },
      "execution_count": 3,
      "outputs": [
        {
          "output_type": "stream",
          "name": "stdout",
          "text": [
            "[1009  939 1023 1011 1001 1003  938 1009 1021 1046]\n"
          ]
        }
      ]
    },
    {
      "cell_type": "code",
      "source": [],
      "metadata": {
        "id": "FlTN6C6HUSqK"
      },
      "execution_count": null,
      "outputs": []
    }
  ]
}