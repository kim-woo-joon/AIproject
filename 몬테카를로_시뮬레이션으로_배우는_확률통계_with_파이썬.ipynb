{
  "nbformat": 4,
  "nbformat_minor": 0,
  "metadata": {
    "colab": {
      "provenance": [],
      "authorship_tag": "ABX9TyPvHTF662Zv+ikswWT5GlbP",
      "include_colab_link": true
    },
    "kernelspec": {
      "name": "python3",
      "display_name": "Python 3"
    },
    "language_info": {
      "name": "python"
    }
  },
  "cells": [
    {
      "cell_type": "markdown",
      "metadata": {
        "id": "view-in-github",
        "colab_type": "text"
      },
      "source": [
        "<a href=\"https://colab.research.google.com/github/kim-woo-joon/AIproject/blob/main/%EB%AA%AC%ED%85%8C%EC%B9%B4%EB%A5%BC%EB%A1%9C_%EC%8B%9C%EB%AE%AC%EB%A0%88%EC%9D%B4%EC%85%98%EC%9C%BC%EB%A1%9C_%EB%B0%B0%EC%9A%B0%EB%8A%94_%ED%99%95%EB%A5%A0%ED%86%B5%EA%B3%84_with_%ED%8C%8C%EC%9D%B4%EC%8D%AC.ipynb\" target=\"_parent\"><img src=\"https://colab.research.google.com/assets/colab-badge.svg\" alt=\"Open In Colab\"/></a>"
      ]
    },
    {
      "cell_type": "code",
      "execution_count": null,
      "metadata": {
        "id": "fZE4aFrEGn1q"
      },
      "outputs": [],
      "source": [
        "import numpy as np\n",
        "import pandas as pd\n",
        "import matplotlib.pyplot as plt\n",
        "\n",
        "def factorial(x):\n",
        "  x_list = list(range(1,x+1))\n",
        "  res = 1\n",
        "  for val in x_list:\n",
        "    res *= val\n",
        "  return res"
      ]
    },
    {
      "cell_type": "code",
      "source": [
        "factorial(5)"
      ],
      "metadata": {
        "colab": {
          "base_uri": "https://localhost:8080/"
        },
        "id": "aJVLVPVIMFBd",
        "outputId": "6a0c9349-a8c9-4331-d7b6-4fc1d45b358b"
      },
      "execution_count": null,
      "outputs": [
        {
          "output_type": "execute_result",
          "data": {
            "text/plain": [
              "120"
            ]
          },
          "metadata": {},
          "execution_count": 5
        }
      ]
    },
    {
      "cell_type": "code",
      "source": [
        "def combination(n, x):\n",
        "  res = factorial(n)/(factorial(x)*factorial(n - x))\n",
        "  return res"
      ],
      "metadata": {
        "id": "xHYrRIE3MQIJ"
      },
      "execution_count": null,
      "outputs": []
    },
    {
      "cell_type": "code",
      "source": [
        "combination(5,3)"
      ],
      "metadata": {
        "id": "IKrpyK0naNOd",
        "outputId": "bd290096-f690-4d5a-a04b-124235c1cee8",
        "colab": {
          "base_uri": "https://localhost:8080/"
        }
      },
      "execution_count": null,
      "outputs": [
        {
          "output_type": "execute_result",
          "data": {
            "text/plain": [
              "10.0"
            ]
          },
          "metadata": {},
          "execution_count": 9
        }
      ]
    },
    {
      "cell_type": "code",
      "source": [
        "def factorial(x):\n",
        "  x_list = list(range(1,x+1))\n",
        "  res = 1\n",
        "  for val in x_list:\n",
        "    res *= val\n",
        "  return res"
      ],
      "metadata": {
        "id": "iPVDk8MtaRKO"
      },
      "execution_count": null,
      "outputs": []
    },
    {
      "cell_type": "code",
      "source": [
        "n = 10\n",
        "e = 0\n",
        "for i in range(0, n):\n",
        "  e += 1/factorial(i)\n",
        "print(e)"
      ],
      "metadata": {
        "colab": {
          "base_uri": "https://localhost:8080/"
        },
        "id": "xqHg_VHEdw0E",
        "outputId": "5aeabf1b-9b1e-4389-b0a7-c71e16c35236"
      },
      "execution_count": null,
      "outputs": [
        {
          "output_type": "stream",
          "name": "stdout",
          "text": [
            "2.7182815255731922\n"
          ]
        }
      ]
    },
    {
      "cell_type": "code",
      "source": [
        "n = 100\n",
        "e = 0\n",
        "for i in range(0, n):\n",
        "  e += 1/factorial(i)\n",
        "print(e)"
      ],
      "metadata": {
        "colab": {
          "base_uri": "https://localhost:8080/"
        },
        "id": "CF8bkO8xd6GR",
        "outputId": "335bf7c6-5d65-4555-a17c-b65bd4781559"
      },
      "execution_count": null,
      "outputs": [
        {
          "output_type": "stream",
          "name": "stdout",
          "text": [
            "2.7182818284590455\n"
          ]
        }
      ]
    },
    {
      "cell_type": "code",
      "source": [],
      "metadata": {
        "id": "fFg6rHbGi8_6"
      },
      "execution_count": null,
      "outputs": []
    }
  ]
}